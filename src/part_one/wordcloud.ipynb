{
 "cells": [
  {
   "cell_type": "code",
   "execution_count": 1,
   "metadata": {},
   "outputs": [],
   "source": [
    "import sys\n",
    "import wordcloud\n",
    "from pyspark.sql import SparkSession\n",
    "from pyspark import SparkConf"
   ]
  },
  {
   "cell_type": "code",
   "execution_count": 5,
   "metadata": {},
   "outputs": [
    {
     "name": "stderr",
     "output_type": "stream",
     "text": [
      "                                                                                \r"
     ]
    },
    {
     "name": "stdout",
     "output_type": "stream",
     "text": [
      "+--------------------+---+--------------------+\n",
      "|                 _c0|_c1|                 _c2|\n",
      "+--------------------+---+--------------------+\n",
      "|                 #19|  1|#mentalwellness,#...|\n",
      "|              #28Mar|  1|#VirgenMaría,#Cov...|\n",
      "|#60AniversarioISSSTE|  1|#MéxicoUnido,#Qué...|\n",
      "|#ActivadosPorLa-S...|  1|#QuédateEnCasa,#J...|\n",
      "|#ActivadosPorLaSalud|  3|#QuédateEnCasa,#C...|\n",
      "| #BandasSinApellidos|  1|#LaMúsicaEnseñaVa...|\n",
      "| #BersamaLawanCorona|  1|#HidupSehattvOne,...|\n",
      "|          #Bolsonaro|  1|#PandemiaCoronavi...|\n",
      "|             #Brasil|  1|                null|\n",
      "|            #COVID19| 67|#Coronavirus,#COV...|\n",
      "|   #COVID19Indonesia|  1|#HidupSehattvOne,...|\n",
      "|   #COVID19argentina|  1|#blogdeviajes,#ar...|\n",
      "|          #COVID19😷|  1|         #OpiniónLSR|\n",
      "|          #COVID19🦠|  1|#MéxicoUnido,#Qué...|\n",
      "|          #COVID2019|  1|            #COVID19|\n",
      "|           #COVID_19|  2|#QuédateEnCasa,#P...|\n",
      "|        #CanidraVzla|  1|#QuédateEnCasa,#P...|\n",
      "|             #CoEsSM|  1|#LaMúsicaEnseñaVa...|\n",
      "|   #Concierto365días|  1|#LaMúsicaEnseñaVa...|\n",
      "|#ConferenciaDePrensa|  1|#Coronavirus,#Qué...|\n",
      "+--------------------+---+--------------------+\n",
      "only showing top 20 rows\n",
      "\n"
     ]
    }
   ],
   "source": [
    "'''\n",
    "spark = SparkSession.builder \\\n",
    "        .master(\"yarn\") \\\n",
    "        .appName(\"HelloLines\") \\\n",
    "        .getOrCreate()\n",
    "sc = spark.sparkContext\n",
    "rdd = sc.textFile(\"hdfs:/user/cunha/hello.txt\")\n",
    "'''\n",
    "\n",
    "spark = SparkSession \\\n",
    "    .builder \\\n",
    "    .enableHiveSupport() \\\n",
    "    .config(conf=SparkConf().set(\"spark.driver.maxResultSize\", \"2g\")) \\\n",
    "    .appName(\"wordcloudmap\") \\\n",
    "    .getOrCreate()\n",
    "\n",
    "path = \"../../out/\"\n",
    "df = spark.read.csv(path)\n",
    "df.show()"
   ]
  },
  {
   "cell_type": "code",
   "execution_count": null,
   "metadata": {},
   "outputs": [],
   "source": []
  }
 ],
 "metadata": {
  "interpreter": {
   "hash": "916dbcbb3f70747c44a77c7bcd40155683ae19c65e1c03b4aa3499c5328201f1"
  },
  "kernelspec": {
   "display_name": "Python 3.9.7 64-bit",
   "language": "python",
   "name": "python3"
  },
  "language_info": {
   "codemirror_mode": {
    "name": "ipython",
    "version": 3
   },
   "file_extension": ".py",
   "mimetype": "text/x-python",
   "name": "python",
   "nbconvert_exporter": "python",
   "pygments_lexer": "ipython3",
   "version": "3.9.7"
  },
  "orig_nbformat": 4
 },
 "nbformat": 4,
 "nbformat_minor": 2
}
