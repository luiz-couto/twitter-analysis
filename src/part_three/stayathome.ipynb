{
 "cells": [
  {
   "cell_type": "code",
   "execution_count": 38,
   "metadata": {},
   "outputs": [],
   "source": [
    "import os\n",
    "import math\n",
    "import numpy as np\n",
    "import matplotlib.pyplot as plt\n",
    "from pyspark.sql import SparkSession, Window\n",
    "from pyspark.sql.functions import col, to_timestamp, unix_timestamp, avg, lit\n",
    "from pyspark.sql.functions import sum as _sum\n",
    "from pyspark import SparkConf\n",
    "from pyspark.sql.types import StructType, StructField, IntegerType, StringType, DateType"
   ]
  },
  {
   "cell_type": "markdown",
   "metadata": {},
   "source": [
    "## Third Part\n",
    "For the third part of the assignment, the metric that I've choosed tries to identify the period of quarantine (or how much time) people were keeping yourselfs at home, by tracking the number of tweets with the hashtag #stayathome. This metric will be calculated using the moving average, a statistic that captures the average change in a data series over time. The moving average of the number of tweets with #stayathome will be calculated over a week."
   ]
  },
  {
   "cell_type": "code",
   "execution_count": 39,
   "metadata": {},
   "outputs": [
    {
     "name": "stdout",
     "output_type": "stream",
     "text": [
      "+--------------------+--------------------+\n",
      "|          created_at|                text|\n",
      "+--------------------+--------------------+\n",
      "|2020-03-31T00:00:00Z|Cuando mejor iban...|\n",
      "|2020-03-31T00:00:00Z|Para prevenir el ...|\n",
      "|2020-03-31T00:00:00Z|\"▶ \\\"Es deseable ...|\n",
      "|2020-03-31T00:00:00Z|“Tú eres tu parej...|\n",
      "|2020-03-31T00:00:00Z|Los taxis tienen ...|\n",
      "|2020-03-31T00:00:00Z|Sin futbol hasta ...|\n",
      "|2020-03-31T00:00:00Z|Here are some tip...|\n",
      "|2020-03-31T00:00:00Z|New York welcomes...|\n",
      "|2020-03-31T00:00:00Z|#ConferenciaDePre...|\n",
      "|2020-03-31T00:00:00Z|#كورونا يجبر #مجل...|\n",
      "|2020-03-31T00:00:00Z|#Tamaulipas | Al ...|\n",
      "|2020-03-31T00:00:00Z|💵 El ayuntamient...|\n",
      "|2020-03-31T00:00:00Z|¿Eres mayor de 60...|\n",
      "|2020-03-31T00:00:00Z|Es muy importante...|\n",
      "|2020-03-31T00:00:00Z|Release Yemen det...|\n",
      "|2020-03-31T00:00:00Z|แพทย์แนะดูแลผู้สู...|\n",
      "|2020-03-31T00:00:00Z|       \"\\\"Uulitin ko|\n",
      "|2020-03-31T00:00:00Z|#Local Hay 12 dip...|\n",
      "|2020-03-31T00:00:00Z|\"#Fernandez lamen...|\n",
      "|2020-03-31T00:00:00Z|#COVID19 | El pre...|\n",
      "+--------------------+--------------------+\n",
      "only showing top 20 rows\n",
      "\n"
     ]
    }
   ],
   "source": [
    "'''\n",
    "spark = SparkSession.builder \\\n",
    "        .master(\"yarn\") \\\n",
    "        .appName(\"HelloLines\") \\\n",
    "        .getOrCreate()\n",
    "sc = spark.sparkContext\n",
    "rdd = sc.textFile(\"hdfs:/user/cunha/hello.txt\")\n",
    "'''\n",
    "table_schema = StructType([\n",
    "    StructField(\"account_created_at\", StringType(), True),\n",
    "    StructField(\"account_lang\",   StringType(), True),\n",
    "    StructField(\"country_code\", StringType(), True),\n",
    "    StructField(\"created_at\", StringType(), True),\n",
    "    StructField(\"favourites_count\", StringType(), True),\n",
    "    StructField(\"followers_count\", StringType(), True),\n",
    "    StructField(\"friends_count\", StringType(), True),\n",
    "    StructField(\"is_quote\", StringType(), True),\n",
    "    StructField(\"is_retweet\", StringType(), True),\n",
    "    StructField(\"lang\", StringType(), True),\n",
    "    StructField(\"place_full_name\", StringType(), True),\n",
    "    StructField(\"place_type\", StringType(), True),\n",
    "    StructField(\"reply_to_screen_name\", StringType(), True),\n",
    "    StructField(\"reply_to_status_id\", StringType(), True),\n",
    "    StructField(\"reply_to_user_id\", StringType(), True),\n",
    "    StructField(\"retweet_count\", StringType(), True),\n",
    "    StructField(\"screen_name\", StringType(), True),\n",
    "    StructField(\"source\", StringType(), True),\n",
    "    StructField(\"status_id\", StringType(), True),\n",
    "    StructField(\"text\", StringType(), True),\n",
    "    StructField(\"user_id\", StringType(), True),\n",
    "    StructField(\"verified\", StringType(), True),\n",
    "])\n",
    "\n",
    "spark = SparkSession \\\n",
    "    .builder \\\n",
    "    .enableHiveSupport() \\\n",
    "    .config(conf=SparkConf().set(\"spark.driver.maxResultSize\", \"2g\")) \\\n",
    "    .appName(\"stayathomeanalysis\") \\\n",
    "    .getOrCreate()\n",
    "\n",
    "spark.conf.set(\"spark.sql.legacy.timeParserPolicy\",\"LEGACY\")\n",
    "\n",
    "df = spark.read.json(\"../../database/2.json\", schema=table_schema) # MUDAR O NOME AQUUUUIIII\n",
    "df = df.select(col(\"created_at\"), col(\"text\"))\n",
    "df.show()"
   ]
  },
  {
   "cell_type": "code",
   "execution_count": 40,
   "metadata": {},
   "outputs": [
    {
     "name": "stdout",
     "output_type": "stream",
     "text": [
      "+--------------------+--------------------+----------+\n",
      "|          created_at|                text| unix_time|\n",
      "+--------------------+--------------------+----------+\n",
      "|2020-03-31T00:03:04Z|@kevincorke Canad...|1585623600|\n",
      "|2020-03-31T00:03:07Z|#unfollow4unfollo...|1585623600|\n",
      "|2020-03-31T00:03:17Z|#ChicagoAlert #Ch...|1585623600|\n",
      "|2020-03-31T00:04:20Z|Sigamos luchando ...|1585623600|\n",
      "|2020-03-31T00:04:44Z|Italy will be the...|1585623600|\n",
      "|2020-03-31T00:05:44Z|TERUSKAN BERDOA S...|1585623600|\n",
      "|2020-03-31T00:08:49Z|#stayathome #covi...|1585623600|\n",
      "|2020-03-31T00:09:41Z|#PMRKualaNerus #J...|1585623600|\n",
      "|2020-03-31T00:11:19Z|#delivery #foodde...|1585623600|\n",
      "|2020-03-31T00:11:20Z|COVID-19: State b...|1585623600|\n",
      "|2020-03-31T00:13:33Z|Now On eBay!  2 k...|1585623600|\n",
      "|2020-03-31T00:15:19Z|Me avoiding accid...|1585623600|\n",
      "|2020-03-31T00:22:35Z|Give your support...|1585623600|\n",
      "|2020-03-31T00:24:08Z|Police sweep #Jua...|1585623600|\n",
      "|2020-03-31T00:24:24Z|@AMS_Landscaping ...|1585623600|\n",
      "|2020-03-31T00:26:24Z|Not certain what ...|1585623600|\n",
      "|2020-03-31T00:30:22Z|Our work from hom...|1585623600|\n",
      "|2020-03-31T00:34:04Z|Explained visuall...|1585623600|\n",
      "|2020-03-31T00:34:54Z|Arizona Under Sta...|1585623600|\n",
      "|2020-03-31T00:35:37Z|657 Combined  58 ...|1585623600|\n",
      "+--------------------+--------------------+----------+\n",
      "only showing top 20 rows\n",
      "\n"
     ]
    }
   ],
   "source": [
    "# Filtering by hashtag\n",
    "hashtag = \"#stayathome\"\n",
    "df = df.withColumn('unix_time', unix_timestamp('created_at', 'yyyy-MM-dd'))\n",
    "filtered = df.filter(df.text.contains(hashtag))\n",
    "filtered.show()"
   ]
  },
  {
   "cell_type": "code",
   "execution_count": 41,
   "metadata": {},
   "outputs": [
    {
     "name": "stderr",
     "output_type": "stream",
     "text": [
      "22/05/13 22:36:04 WARN WindowExec: No Partition Defined for Window operation! Moving all data to a single partition, this can cause serious performance degradation.\n",
      "22/05/13 22:36:04 WARN WindowExec: No Partition Defined for Window operation! Moving all data to a single partition, this can cause serious performance degradation.\n",
      "22/05/13 22:36:06 WARN WindowExec: No Partition Defined for Window operation! Moving all data to a single partition, this can cause serious performance degradation.\n",
      "22/05/13 22:36:06 WARN WindowExec: No Partition Defined for Window operation! Moving all data to a single partition, this can cause serious performance degradation.\n"
     ]
    },
    {
     "name": "stdout",
     "output_type": "stream",
     "text": [
      "+----------+--------------------+-----+------------------+\n",
      "| unix_time|          created_at|count|   rolling_average|\n",
      "+----------+--------------------+-----+------------------+\n",
      "|1585623600|2020-03-31T00:46:57Z|    1|1.0102669404517455|\n",
      "|1585623600|2020-03-31T00:56:39Z|    1|1.0102669404517455|\n",
      "|1585623600|2020-03-31T00:56:34Z|    1|1.0102669404517455|\n",
      "|1585623600|2020-03-31T00:57:56Z|    1|1.0102669404517455|\n",
      "|1585623600|2020-03-31T00:43:06Z|    1|1.0102669404517455|\n",
      "|1585623600|2020-03-31T00:56:00Z|    1|1.0102669404517455|\n",
      "|1585623600|2020-03-31T00:24:08Z|    1|1.0102669404517455|\n",
      "|1585623600|2020-03-31T00:03:17Z|    1|1.0102669404517455|\n",
      "|1585623600|2020-03-31T00:43:37Z|    1|1.0102669404517455|\n",
      "|1585623600|2020-03-31T00:38:03Z|    1|1.0102669404517455|\n",
      "|1585623600|2020-03-31T00:05:44Z|    1|1.0102669404517455|\n",
      "|1585623600|2020-03-31T00:30:22Z|    1|1.0102669404517455|\n",
      "|1585623600|2020-03-31T00:50:13Z|    1|1.0102669404517455|\n",
      "|1585623600|2020-03-31T00:58:01Z|    1|1.0102669404517455|\n",
      "|1585623600|2020-03-31T00:08:49Z|    1|1.0102669404517455|\n",
      "|1585623600|2020-03-31T00:35:37Z|    1|1.0102669404517455|\n",
      "|1585623600|2020-03-31T00:13:33Z|    1|1.0102669404517455|\n",
      "|1585623600|2020-03-31T00:56:27Z|    1|1.0102669404517455|\n",
      "|1585623600|2020-03-31T00:52:27Z|    1|1.0102669404517455|\n",
      "|1585623600|2020-03-31T00:11:19Z|    1|1.0102669404517455|\n",
      "+----------+--------------------+-----+------------------+\n",
      "only showing top 20 rows\n",
      "\n"
     ]
    },
    {
     "name": "stderr",
     "output_type": "stream",
     "text": [
      "                                                                                \r"
     ]
    }
   ],
   "source": [
    "# Create a window\n",
    "tweets_per_day = filtered.groupby(\"unix_time\", \"created_at\").count()\n",
    "window = Window.orderBy('unix_time').rangeBetween(-7*86400, 0)\n",
    "tweets_per_day_rolling = tweets_per_day.withColumn('rolling_average', avg(\"count\").over(window))\n",
    "tweets_per_day_rolling.show()"
   ]
  },
  {
   "cell_type": "code",
   "execution_count": 42,
   "metadata": {},
   "outputs": [
    {
     "name": "stderr",
     "output_type": "stream",
     "text": [
      "22/05/13 22:36:06 WARN WindowExec: No Partition Defined for Window operation! Moving all data to a single partition, this can cause serious performance degradation.\n",
      "22/05/13 22:36:07 WARN WindowExec: No Partition Defined for Window operation! Moving all data to a single partition, this can cause serious performance degradation.\n",
      "22/05/13 22:36:07 WARN WindowExec: No Partition Defined for Window operation! Moving all data to a single partition, this can cause serious performance degradation.\n"
     ]
    },
    {
     "name": "stdout",
     "output_type": "stream",
     "text": [
      "+----------+--------------------+-----+------------------+\n",
      "| unix_time|          created_at|count|   rolling_average|\n",
      "+----------+--------------------+-----+------------------+\n",
      "|1585623600|2020-03-31T00:46:57Z|    1|1.0102669404517455|\n",
      "+----------+--------------------+-----+------------------+\n",
      "\n"
     ]
    },
    {
     "name": "stderr",
     "output_type": "stream",
     "text": [
      "                                                                                \r"
     ]
    }
   ],
   "source": [
    "# remove those from the same day\n",
    "tweets_per_day_rolling = tweets_per_day_rolling.drop_duplicates([\"unix_time\"])\n",
    "tweets_per_day_rolling.show()"
   ]
  },
  {
   "cell_type": "code",
   "execution_count": 46,
   "metadata": {},
   "outputs": [
    {
     "name": "stderr",
     "output_type": "stream",
     "text": [
      "22/05/13 22:37:29 WARN WindowExec: No Partition Defined for Window operation! Moving all data to a single partition, this can cause serious performance degradation.\n",
      "22/05/13 22:37:30 WARN WindowExec: No Partition Defined for Window operation! Moving all data to a single partition, this can cause serious performance degradation.\n",
      "22/05/13 22:37:30 WARN WindowExec: No Partition Defined for Window operation! Moving all data to a single partition, this can cause serious performance degradation.\n"
     ]
    },
    {
     "data": {
      "image/png": "[encoded data removed]",
      "text/plain": [
       "<Figure size 1152x360 with 1 Axes>"
      ]
     },
     "metadata": {
      "needs_background": "light"
     },
     "output_type": "display_data"
    }
   ],
   "source": [
    "def plot_df(df, x, y, title=\"\", xlabel='Date', ylabel='Value'):\n",
    "    plt.figure(figsize=(16,5))\n",
    "    plt.plot(x, y)\n",
    "    plt.gca().set(title=title, xlabel=xlabel, ylabel=ylabel)\n",
    "    plt.savefig('time-series.png')\n",
    "    plt.show()\n",
    "\n",
    "tweets_per_day_rolling = tweets_per_day_rolling.withColumn('day',  to_timestamp(col(\"unix_time\")))\n",
    "data = tweets_per_day_rolling.toPandas()\n",
    "plot_df(data, x=data.day, y=data.rolling_average, title='Moving Average of the hashtag #stayathome')\n"
   ]
  }
 ],
 "metadata": {
  "interpreter": {
   "hash": "916dbcbb3f70747c44a77c7bcd40155683ae19c65e1c03b4aa3499c5328201f1"
  },
  "kernelspec": {
   "display_name": "Python 3.9.7 64-bit",
   "language": "python",
   "name": "python3"
  },
  "language_info": {
   "codemirror_mode": {
    "name": "ipython",
    "version": 3
   },
   "file_extension": ".py",
   "mimetype": "text/x-python",
   "name": "python",
   "nbconvert_exporter": "python",
   "pygments_lexer": "ipython3",
   "version": "3.9.7"
  },
  "orig_nbformat": 4
 },
 "nbformat": 4,
 "nbformat_minor": 2
}
