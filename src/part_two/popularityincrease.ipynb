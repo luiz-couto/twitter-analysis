{
 "cells": [
  {
   "cell_type": "code",
   "execution_count": 36,
   "metadata": {},
   "outputs": [],
   "source": [
    "import os\n",
    "import math\n",
    "import numpy as np\n",
    "import matplotlib.pyplot as plt\n",
    "from pyspark.sql import SparkSession, Window\n",
    "from pyspark.sql.functions import col, lag, count, when, monotonically_increasing_id\n",
    "from pyspark.sql.functions import sum as _sum\n",
    "from pyspark import SparkConf\n",
    "from pyspark.sql.types import StructType, StructField, IntegerType, StringType, DateType\n",
    "import pyspark"
   ]
  },
  {
   "cell_type": "code",
   "execution_count": 37,
   "metadata": {},
   "outputs": [],
   "source": [
    "'''\n",
    "spark = SparkSession.builder \\\n",
    "        .master(\"yarn\") \\\n",
    "        .appName(\"HelloLines\") \\\n",
    "        .getOrCreate()\n",
    "sc = spark.sparkContext\n",
    "rdd = sc.textFile(\"hdfs:/user/cunha/hello.txt\")\n",
    "'''\n",
    "table_schema = StructType([\n",
    "    StructField(\"account_created_at\", StringType(), True),\n",
    "    StructField(\"account_lang\",   StringType(), True),\n",
    "    StructField(\"country_code\", StringType(), True),\n",
    "    StructField(\"created_at\", StringType(), True),\n",
    "    StructField(\"favourites_count\", StringType(), True),\n",
    "    StructField(\"followers_count\", StringType(), True),\n",
    "    StructField(\"friends_count\", StringType(), True),\n",
    "    StructField(\"is_quote\", StringType(), True),\n",
    "    StructField(\"is_retweet\", StringType(), True),\n",
    "    StructField(\"lang\", StringType(), True),\n",
    "    StructField(\"place_full_name\", StringType(), True),\n",
    "    StructField(\"place_type\", StringType(), True),\n",
    "    StructField(\"reply_to_screen_name\", StringType(), True),\n",
    "    StructField(\"reply_to_status_id\", StringType(), True),\n",
    "    StructField(\"reply_to_user_id\", StringType(), True),\n",
    "    StructField(\"retweet_count\", StringType(), True),\n",
    "    StructField(\"screen_name\", StringType(), True),\n",
    "    StructField(\"source\", StringType(), True),\n",
    "    StructField(\"status_id\", StringType(), True),\n",
    "    StructField(\"text\", StringType(), True),\n",
    "    StructField(\"user_id\", StringType(), True),\n",
    "    StructField(\"verified\", StringType(), True),\n",
    "])\n",
    "\n",
    "spark = SparkSession \\\n",
    "    .builder \\\n",
    "    .enableHiveSupport() \\\n",
    "    .config(conf=SparkConf().set(\"spark.driver.maxResultSize\", \"2g\")) \\\n",
    "    .appName(\"wordcloudmapp\") \\\n",
    "    .getOrCreate()\n",
    "\n",
    "df = spark.read.json(\"../../database/2.json\", schema=table_schema) # MUDAR O NOME AQUUUUIIII\n",
    "df = df.select(col(\"created_at\"), col(\"screen_name\"), col(\"followers_count\"), col(\"verified\"))"
   ]
  },
  {
   "cell_type": "code",
   "execution_count": 38,
   "metadata": {},
   "outputs": [
    {
     "name": "stdout",
     "output_type": "stream",
     "text": [
      "+----------+---------------+---------------+--------+\n",
      "|created_at|    screen_name|followers_count|verified|\n",
      "+----------+---------------+---------------+--------+\n",
      "|2020-03-31|        012jcyl|           7271|    TRUE|\n",
      "|2020-03-31|    1025TheBone|          30810|    TRUE|\n",
      "|2020-03-31|     1027KIISFM|         355502|    TRUE|\n",
      "|2020-03-31|     1027KIISFM|         355502|    TRUE|\n",
      "|2020-03-31|     1027KIISFM|         355503|    TRUE|\n",
      "|2020-03-31| 1045FreshRadio|           2448|    TRUE|\n",
      "|2020-03-31|       1055WDUV|           2895|    TRUE|\n",
      "|2020-03-31|10DowningStreet|        5667668|    TRUE|\n",
      "|2020-03-31|10DowningStreet|        5667726|    TRUE|\n",
      "|2020-03-31|    10NewsFirst|         198791|    TRUE|\n",
      "|2020-03-31|    10NewsFirst|         198791|    TRUE|\n",
      "|2020-03-31|    10NewsFirst|         198791|    TRUE|\n",
      "|2020-03-31|    10NewsFirst|         198791|    TRUE|\n",
      "|2020-03-31|    10NewsFirst|         198791|    TRUE|\n",
      "|2020-03-31|    10NewsFirst|         198791|    TRUE|\n",
      "|2020-03-31|    10NewsFirst|         198791|    TRUE|\n",
      "|2020-03-31|    10NewsFirst|         198831|    TRUE|\n",
      "|2020-03-31|    10NewsFirst|         198791|    TRUE|\n",
      "|2020-03-31|    10NewsFirst|         198791|    TRUE|\n",
      "|2020-03-31|    10NewsFirst|         198791|    TRUE|\n",
      "+----------+---------------+---------------+--------+\n",
      "only showing top 20 rows\n",
      "\n"
     ]
    }
   ],
   "source": [
    "tf = df.filter(df.verified == \"TRUE\") \\\n",
    "    .withColumn(\"followers_count\", df[\"followers_count\"] \\\n",
    "    .cast(IntegerType())).withColumn(\"created_at\", col(\"created_at\") \\\n",
    "    .cast(DateType())).orderBy(\"screen_name\")\n",
    "\n",
    "tf.show()"
   ]
  },
  {
   "cell_type": "code",
   "execution_count": 39,
   "metadata": {},
   "outputs": [
    {
     "name": "stdout",
     "output_type": "stream",
     "text": [
      "+----------+---------------+---------------+--------+-------------+\n",
      "|created_at|    screen_name|followers_count|verified|follower_diff|\n",
      "+----------+---------------+---------------+--------+-------------+\n",
      "|2020-03-31|        012jcyl|           7271|    TRUE|            0|\n",
      "|2020-03-31|    1025TheBone|          30810|    TRUE|            0|\n",
      "|2020-03-31|     1027KIISFM|         355502|    TRUE|            0|\n",
      "|2020-03-31|     1027KIISFM|         355502|    TRUE|            0|\n",
      "|2020-03-31|     1027KIISFM|         355503|    TRUE|            1|\n",
      "|2020-03-31| 1045FreshRadio|           2448|    TRUE|            0|\n",
      "|2020-03-31|       1055WDUV|           2895|    TRUE|            0|\n",
      "|2020-03-31|10DowningStreet|        5667726|    TRUE|            0|\n",
      "|2020-03-31|10DowningStreet|        5667668|    TRUE|          -58|\n",
      "|2020-03-31|    10NewsFirst|         198791|    TRUE|            0|\n",
      "|2020-03-31|    10NewsFirst|         198791|    TRUE|            0|\n",
      "|2020-03-31|    10NewsFirst|         198791|    TRUE|            0|\n",
      "|2020-03-31|    10NewsFirst|         198791|    TRUE|            0|\n",
      "|2020-03-31|    10NewsFirst|         198791|    TRUE|            0|\n",
      "|2020-03-31|    10NewsFirst|         198791|    TRUE|            0|\n",
      "|2020-03-31|    10NewsFirst|         198831|    TRUE|           40|\n",
      "|2020-03-31|    10NewsFirst|         198791|    TRUE|          -40|\n",
      "|2020-03-31|    10NewsFirst|         198791|    TRUE|            0|\n",
      "|2020-03-31|    10NewsFirst|         198791|    TRUE|            0|\n",
      "|2020-03-31|    10NewsFirst|         198791|    TRUE|            0|\n",
      "+----------+---------------+---------------+--------+-------------+\n",
      "only showing top 20 rows\n",
      "\n"
     ]
    }
   ],
   "source": [
    "window = Window.partitionBy(\"screen_name\").orderBy(\"created_at\")\n",
    "t0 = tf.withColumn(\"follower_diff\", col(\"followers_count\") - lag(col(\"followers_count\"), 1).over(window))\n",
    "t0 = t0.fillna({'follower_diff': 0})\n",
    "t0.show()"
   ]
  },
  {
   "cell_type": "code",
   "execution_count": 40,
   "metadata": {},
   "outputs": [
    {
     "name": "stderr",
     "output_type": "stream",
     "text": [
      "                                                                                \r"
     ]
    },
    {
     "name": "stdout",
     "output_type": "stream",
     "text": [
      "+---------------+----------+---------------+--------+-------------+------------------+\n",
      "|    screen_name|created_at|followers_count|verified|follower_diff|followers_increase|\n",
      "+---------------+----------+---------------+--------+-------------+------------------+\n",
      "|        012jcyl|2020-03-31|           7271|    TRUE|            0|                 0|\n",
      "|    1025TheBone|2020-03-31|          30810|    TRUE|            0|                 0|\n",
      "|     1027KIISFM|2020-03-31|         355502|    TRUE|            0|                 1|\n",
      "|     1027KIISFM|2020-03-31|         355502|    TRUE|            0|                 1|\n",
      "|     1027KIISFM|2020-03-31|         355503|    TRUE|            1|                 1|\n",
      "| 1045FreshRadio|2020-03-31|           2448|    TRUE|            0|                 0|\n",
      "|       1055WDUV|2020-03-31|           2895|    TRUE|            0|                 0|\n",
      "|10DowningStreet|2020-03-31|        5667726|    TRUE|            0|               -58|\n",
      "|10DowningStreet|2020-03-31|        5667668|    TRUE|          -58|               -58|\n",
      "|    10NewsFirst|2020-03-31|         198791|    TRUE|            0|                 0|\n",
      "|    10NewsFirst|2020-03-31|         198791|    TRUE|            0|                 0|\n",
      "|    10NewsFirst|2020-03-31|         198791|    TRUE|            0|                 0|\n",
      "|    10NewsFirst|2020-03-31|         198791|    TRUE|            0|                 0|\n",
      "|    10NewsFirst|2020-03-31|         198791|    TRUE|            0|                 0|\n",
      "|    10NewsFirst|2020-03-31|         198791|    TRUE|            0|                 0|\n",
      "|    10NewsFirst|2020-03-31|         198831|    TRUE|           40|                 0|\n",
      "|    10NewsFirst|2020-03-31|         198791|    TRUE|          -40|                 0|\n",
      "|    10NewsFirst|2020-03-31|         198791|    TRUE|            0|                 0|\n",
      "|    10NewsFirst|2020-03-31|         198791|    TRUE|            0|                 0|\n",
      "|    10NewsFirst|2020-03-31|         198791|    TRUE|            0|                 0|\n",
      "+---------------+----------+---------------+--------+-------------+------------------+\n",
      "only showing top 20 rows\n",
      "\n"
     ]
    },
    {
     "name": "stderr",
     "output_type": "stream",
     "text": [
      "                                                                                \r"
     ]
    }
   ],
   "source": [
    "#Sum all the diferences of followers between the tweets\n",
    "\n",
    "t1 = t0.groupBy('screen_name').agg(_sum(\"follower_diff\").alias(\"followers_increase\"))\n",
    "t0 = t0.join(t1, 'screen_name', 'left_outer')\n",
    "t0.show()\n"
   ]
  },
  {
   "cell_type": "code",
   "execution_count": 41,
   "metadata": {},
   "outputs": [
    {
     "name": "stderr",
     "output_type": "stream",
     "text": [
      "                                                                                \r"
     ]
    },
    {
     "name": "stdout",
     "output_type": "stream",
     "text": [
      "+---------------+------------+------------------+\n",
      "|    screen_name|tweets_count|followers_increase|\n",
      "+---------------+------------+------------------+\n",
      "|  openletterbot|        1662|                -3|\n",
      "|      ANCALERTS|         168|               708|\n",
      "|     ABSCBNNews|          97|              1261|\n",
      "|       idntimes|          72|                86|\n",
      "|    indiatvnews|          69|               870|\n",
      "|     IndiaToday|          66|              -132|\n",
      "|      prajavani|          66|               -87|\n",
      "|        bsindia|          63|               316|\n",
      "|        ThaiPBS|          63|               327|\n",
      "|  DZMMTeleRadyo|          62|               -52|\n",
      "|     ElPitazoTV|          60|                26|\n",
      "|   Thansettakij|          59|                -6|\n",
      "|         aajtak|          59|               366|\n",
      "|       TheQuint|          56|               268|\n",
      "|       htTweets|          51|              2996|\n",
      "|    ThaiPBSNews|          50|                67|\n",
      "|        Notimex|          50|                -7|\n",
      "|     ians_india|          49|               -30|\n",
      "|globaltimesnews|          47|               659|\n",
      "|           ndtv|          47|              3539|\n",
      "+---------------+------------+------------------+\n",
      "only showing top 20 rows\n",
      "\n"
     ]
    }
   ],
   "source": [
    "#Get the total number of tweets that a user has made\n",
    "t2 = t0.groupBy('screen_name').agg(count(col('screen_name')).alias(\"tweets_count\"))\n",
    "t0 = t2.join(t1, 'screen_name', 'left_outer').orderBy(col(\"tweets_count\"), ascending=False)\n",
    "t0.show()"
   ]
  },
  {
   "cell_type": "code",
   "execution_count": 43,
   "metadata": {},
   "outputs": [
    {
     "name": "stdout",
     "output_type": "stream",
     "text": [
      "+---------------+------------+------------------+-----+---------+\n",
      "|    screen_name|tweets_count|followers_increase|index|is_active|\n",
      "+---------------+------------+------------------+-----+---------+\n",
      "|  openletterbot|        1662|                -3|    0|        1|\n",
      "|      ANCALERTS|         168|               708|    1|        1|\n",
      "|     ABSCBNNews|          97|              1261|    2|        1|\n",
      "|       idntimes|          72|                86|    3|        1|\n",
      "|    indiatvnews|          69|               870|    4|        1|\n",
      "|      prajavani|          66|               -87|    5|        1|\n",
      "|     IndiaToday|          66|              -132|    6|        1|\n",
      "|        ThaiPBS|          63|               327|    7|        1|\n",
      "|        bsindia|          63|               316|    8|        1|\n",
      "|  DZMMTeleRadyo|          62|               -52|    9|        1|\n",
      "|     ElPitazoTV|          60|                26|   10|        1|\n",
      "|   Thansettakij|          59|                -6|   11|        1|\n",
      "|         aajtak|          59|               366|   12|        1|\n",
      "|       TheQuint|          56|               268|   13|        1|\n",
      "|       htTweets|          51|              2996|   14|        1|\n",
      "|    ThaiPBSNews|          50|                67|   15|        1|\n",
      "|        Notimex|          50|                -7|   16|        1|\n",
      "|     ians_india|          49|               -30|   17|        1|\n",
      "|           ndtv|          47|              3539|   18|        1|\n",
      "|globaltimesnews|          47|               659|   19|        1|\n",
      "+---------------+------------+------------------+-----+---------+\n",
      "only showing top 20 rows\n",
      "\n"
     ]
    }
   ],
   "source": [
    "# Get if the user is within the most 1000 active users\n",
    "t0 = t0.orderBy(\"tweets_count\", ascending=False).withColumn(\"index\", monotonically_increasing_id())\n",
    "t0 = t0.withColumn(\"is_active\", when(t0.index <= 1000, 1).otherwise(0))\n",
    "t0.show()"
   ]
  },
  {
   "cell_type": "code",
   "execution_count": 44,
   "metadata": {},
   "outputs": [
    {
     "name": "stderr",
     "output_type": "stream",
     "text": [
      "                                                                                \r"
     ]
    },
    {
     "name": "stdout",
     "output_type": "stream",
     "text": [
      "+---------------+------------+------------------+-----+---------+\n",
      "|    screen_name|tweets_count|followers_increase|index|is_active|\n",
      "+---------------+------------+------------------+-----+---------+\n",
      "|            ANI|          34|              9544|   36|        1|\n",
      "|           ndtv|          47|              3539|   18|        1|\n",
      "| drharshvardhan|           4|              3065|  739|        1|\n",
      "|       htTweets|          51|              2996|   14|        1|\n",
      "|  DainikBhaskar|          14|              2819|  174|        1|\n",
      "|  IndianExpress|          12|              2490|  209|        1|\n",
      "|    MoHFW_INDIA|           7|              2380|  388|        1|\n",
      "|     DDNational|           6|              2320|  458|        1|\n",
      "|       DavidLat|          11|              2258|  229|        1|\n",
      "|     DDNewslive|           6|              2241|  449|        1|\n",
      "|     ABSCBNNews|          97|              1261|    2|        1|\n",
      "|     DolarToday|           6|              1090|  435|        1|\n",
      "|     WesternRly|           4|              1070|  720|        1|\n",
      "|   dinamalarweb|           5|              1069|  518|        1|\n",
      "|      TV9Telugu|          36|              1038|   32|        1|\n",
      "|    polimernews|          24|               933|   72|        1|\n",
      "|     news7tamil|          20|               887|  103|        1|\n",
      "|  Thairath_News|          17|               882|  134|        1|\n",
      "|    indiatvnews|          69|               870|    4|        1|\n",
      "|       aaj_urdu|           6|               835|  494|        1|\n",
      "|  EconomicTimes|          20|               820|  102|        1|\n",
      "|         XHNews|          14|               777|  167|        1|\n",
      "|      Excelsior|          25|               721|   66|        1|\n",
      "|      ThanthiTV|          27|               716|   60|        1|\n",
      "|      ANCALERTS|         168|               708|    1|        1|\n",
      "|       501Awani|           6|               708|  468|        1|\n",
      "|globaltimesnews|          47|               659|   19|        1|\n",
      "|   sriramulubjp|           7|               590|  401|        1|\n",
      "|  PemaKhanduBJP|           4|               576|  749|        1|\n",
      "|        Milenio|          25|               573|   63|        1|\n",
      "|    UniNoticias|           4|               533|  647|        1|\n",
      "|      ETNOWlive|          12|               497|  205|        1|\n",
      "|     eldiarioes|           9|               475|  312|        1|\n",
      "|    CRI_Turkish|           9|               466|  291|        1|\n",
      "|       ZDFheute|           4|               462|  724|        1|\n",
      "|      News18Guj|           7|               460|  398|        1|\n",
      "|   sunnewstamil|          31|               457|   46|        1|\n",
      "|    JPenerangan|          16|               453|  147|        1|\n",
      "|  dailystarnews|          18|               422|  131|        1|\n",
      "|     voz_populi|          14|               407|  176|        1|\n",
      "|  RachakondaCop|          10|               397|  263|        1|\n",
      "|   CNBCTV18Live|          11|               392|  238|        1|\n",
      "|     ndtvvideos|           9|               391|  305|        1|\n",
      "|         aajtak|          59|               366|   12|        1|\n",
      "|      gulf_news|          17|               356|  133|        1|\n",
      "|      RTLFrance|          14|               342|  172|        1|\n",
      "|   LaVanguardia|           7|               341|  425|        1|\n",
      "|        vikatan|          13|               332|  182|        1|\n",
      "|        ThaiPBS|          63|               327|    7|        1|\n",
      "|        bsindia|          63|               316|    8|        1|\n",
      "|     DrEricDing|          18|               305|  119|        1|\n",
      "|  bernamadotcom|          21|               303|   86|        1|\n",
      "|  suvarnanewstv|          28|               297|   53|        1|\n",
      "|   CGTNOfficial|          31|               290|   44|        1|\n",
      "|      QuickTake|          20|               289|   94|        1|\n",
      "|       EJanNews|          18|               283|  128|        1|\n",
      "|      teleSURtv|          14|               275|  165|        1|\n",
      "|BangaloreMirror|           7|               273|  395|        1|\n",
      "|  thestandardth|          22|               271|   81|        1|\n",
      "|       TheQuint|          56|               268|   13|        1|\n",
      "| BloombergQuint|          25|               268|   69|        1|\n",
      "| UN_News_Centre|           4|               266|  636|        1|\n",
      "| Live_Hindustan|           7|               265|  392|        1|\n",
      "|     mataonline|          11|               265|  245|        1|\n",
      "|   publictvnews|          15|               253|  155|        1|\n",
      "|   AkashvaniAIR|           4|               250|  754|        1|\n",
      "|      Expresoec|           7|               243|  361|        1|\n",
      "|    News5AKSYON|          30|               241|   48|        1|\n",
      "| GhettoRadio895|           4|               236|  735|        1|\n",
      "|   khaleejtimes|          13|               233|  179|        1|\n",
      "|     ChinaDaily|          31|               225|   43|        1|\n",
      "|        Europe1|          11|               216|  241|        1|\n",
      "|        TNAMCOT|          18|               212|  121|        1|\n",
      "|    tcsnoticias|          14|               212|  166|        1|\n",
      "|     tv9kannada|          14|               206|  168|        1|\n",
      "|       alain_4u|           4|               178|  786|        1|\n",
      "|        PressTV|           9|               167|  300|        1|\n",
      "|      pinkvilla|          13|               167|  188|        1|\n",
      "|     Echinanews|          19|               155|  105|        1|\n",
      "|  prabhatkhabar|          10|               145|  270|        1|\n",
      "|       UNGeneva|           4|               144|  692|        1|\n",
      "|NewIndianXpress|          25|               140|   67|        1|\n",
      "|       SCMPNews|           8|               135|  320|        1|\n",
      "|     antaranews|          29|               130|   49|        1|\n",
      "|     IPRD_Bihar|          21|               116|   88|        1|\n",
      "|     js100radio|           6|               115|  472|        1|\n",
      "|   elespanolcom|          14|               114|  162|        1|\n",
      "|   kapookdotcom|          20|               110|  101|        1|\n",
      "|   RTenfrancais|          12|               109|  218|        1|\n",
      "|   TW_nextmedia|          15|               107|  150|        1|\n",
      "|Ch3ThailandNews|          10|               106|  268|        1|\n",
      "|        CBNNews|           3|               103|  879|        1|\n",
      "|FinancialXpress|          20|               102|   95|        1|\n",
      "|        TF1LeJT|           7|               102|  413|        1|\n",
      "|     aletihadae|          15|               101|  159|        1|\n",
      "|     NationTV22|          25|                98|   70|        1|\n",
      "|      SKMM_MCMC|           4|                98|  691|        1|\n",
      "|     laprovence|          15|                97|  154|        1|\n",
      "|ahmedabadmirror|           3|                95|  992|        1|\n",
      "|     AthiGeleba|           4|                92|  792|        1|\n",
      "+---------------+------------+------------------+-----+---------+\n",
      "only showing top 100 rows\n",
      "\n"
     ]
    }
   ],
   "source": [
    "# Order the result and preset 100 of them\n",
    "t0 = t0.filter(t0.is_active > 0)\n",
    "t0 = t0.orderBy(\"followers_increase\", ascending=False)\n",
    "t0.show(100)\n"
   ]
  },
  {
   "cell_type": "code",
   "execution_count": 45,
   "metadata": {},
   "outputs": [
    {
     "name": "stderr",
     "output_type": "stream",
     "text": [
      "                                                                                \r"
     ]
    }
   ],
   "source": [
    "t0.coalesce(1).write.mode('overwrite').option('header','false').csv('../../out/part_2.csv')"
   ]
  }
 ],
 "metadata": {
  "interpreter": {
   "hash": "916dbcbb3f70747c44a77c7bcd40155683ae19c65e1c03b4aa3499c5328201f1"
  },
  "kernelspec": {
   "display_name": "Python 3.9.7 64-bit",
   "language": "python",
   "name": "python3"
  },
  "language_info": {
   "codemirror_mode": {
    "name": "ipython",
    "version": 3
   },
   "file_extension": ".py",
   "mimetype": "text/x-python",
   "name": "python",
   "nbconvert_exporter": "python",
   "pygments_lexer": "ipython3",
   "version": "3.9.7"
  },
  "orig_nbformat": 4
 },
 "nbformat": 4,
 "nbformat_minor": 2
}
